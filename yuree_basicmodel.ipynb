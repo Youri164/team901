{
 "cells": [
  {
   "cell_type": "code",
   "execution_count": 1,
   "metadata": {},
   "outputs": [],
   "source": [
    "import lightgbm as lgb\n",
    "import numpy as np\n",
    "import pandas as pd\n",
    "from sklearn.model_selection import StratifiedKFold\n",
    "from sklearn.metrics import accuracy_score, f1_score\n",
    "from sklearn.preprocessing import LabelEncoder, MinMaxScaler"
   ]
  },
  {
   "cell_type": "code",
   "execution_count": 2,
   "metadata": {},
   "outputs": [
    {
     "name": "stdout",
     "output_type": "stream",
     "text": [
      "          0         1         2         3         4         5         6  \\\n",
      "0 -0.202268 -0.353959 -0.119095  0.247844  0.120783 -0.263038 -0.537206   \n",
      "1  0.809660  0.977984 -0.025524 -1.094791 -1.556198 -0.060669  1.057084   \n",
      "2 -0.283242 -0.188273 -0.175738 -0.118942 -0.096620  0.050365 -0.066805   \n",
      "3  0.144290  0.030802  0.245908  0.400738  0.250939  0.376150 -0.265817   \n",
      "4  0.147031  0.113169  0.218939 -0.442279 -0.780985 -0.673755 -0.355651   \n",
      "\n",
      "          7         8         9  ...     25591     25592     25593     25594  \\\n",
      "0 -0.576838 -0.453532 -0.279206  ...  0.071124  0.173103  0.548901  0.481414   \n",
      "1  0.878002  0.246451 -0.800890  ... -0.246382  0.358700  0.048618 -0.172239   \n",
      "2 -0.234286  0.166423  0.164054  ... -0.197872  0.999439  0.847681  0.051769   \n",
      "3  0.010329  0.693247 -0.277882  ... -0.855152 -1.051428 -1.167517 -1.048143   \n",
      "4 -0.073637 -0.030152  0.159664  ... -0.257708 -0.140300  0.295603 -0.060675   \n",
      "\n",
      "      25595     25596     25597     25598     25599  fault_type  \n",
      "0  0.422957  0.223891  0.001842 -0.218857  0.000951           1  \n",
      "1  0.098558  1.466061  1.252963  0.190932 -0.384616           1  \n",
      "2  0.890592  1.043328  0.884492  0.792582  0.220288           1  \n",
      "3  0.088135 -0.213551 -0.387816 -0.188670  0.041774           1  \n",
      "4 -0.335117 -0.440216 -0.322704  0.446788  0.769093           1  \n",
      "\n",
      "[5 rows x 25601 columns]\n"
     ]
    }
   ],
   "source": [
    "import os\n",
    "folder_path = r\"C:\\Users\\medici\\901\"\n",
    "file_name = \"learning1_data.csv\"\n",
    "file_path = os.path.join(folder_path, file_name)\n",
    "\n",
    "data1 = pd.read_csv(file_path)\n",
    "\n",
    "print(data1.head())"
   ]
  },
  {
   "cell_type": "code",
   "execution_count": 4,
   "metadata": {},
   "outputs": [],
   "source": [
    "y = data1['fault_type']\n",
    "X = data1.drop(columns=['fault_type'])"
   ]
  },
  {
   "cell_type": "code",
   "execution_count": 5,
   "metadata": {},
   "outputs": [],
   "source": [
    "le = LabelEncoder()\n",
    "y_encoded = le.fit_transform(y)"
   ]
  },
  {
   "cell_type": "code",
   "execution_count": 6,
   "metadata": {},
   "outputs": [],
   "source": [
    "scaler = MinMaxScaler()\n",
    "X_scaled = scaler.fit_transform(X)"
   ]
  },
  {
   "cell_type": "code",
   "execution_count": 7,
   "metadata": {},
   "outputs": [],
   "source": [
    "skf = StratifiedKFold(n_splits=5, shuffle=True, random_state=42)"
   ]
  },
  {
   "cell_type": "code",
   "execution_count": 8,
   "metadata": {},
   "outputs": [],
   "source": [
    "accuracy_scores = []\n",
    "f1_scores = []\n",
    "\n",
    "lgb_params = {\n",
    "    'objective': 'multiclass',\n",
    "    'num_class': len(np.unique(y_encoded)),\n",
    "    'boosting_type': 'gbdt',\n",
    "    'metric': 'multi_logloss',\n",
    "    'verbosity': -1\n",
    "}"
   ]
  },
  {
   "cell_type": "code",
   "execution_count": 12,
   "metadata": {},
   "outputs": [],
   "source": [
    "for train_idx, test_idx in skf.split(X_scaled, y_encoded):\n",
    "    X_train, X_test = X_scaled[train_idx], X_scaled[test_idx]\n",
    "    y_train, y_test = y_encoded[train_idx], y_encoded[test_idx]\n",
    "\n",
    "    train_data = lgb.Dataset(X_train, label=y_train)\n",
    "    test_data = lgb.Dataset(X_test, label=y_test, reference=train_data)\n",
    "\n",
    "    model = lgb.train(lgb_params, train_data, valid_sets=[test_data])\n",
    "\n",
    "    y_pred = np.argmax(model.predict(X_test, num_iteration=model.best_iteration), axis=1)\n",
    "\n",
    "    accuracy = accuracy_score(y_test, y_pred)\n",
    "    f1 = f1_score(y_test, y_pred, average='weighted')\n",
    "\n",
    "    accuracy_scores.append(accuracy)\n",
    "    f1_scores.append(f1)"
   ]
  },
  {
   "cell_type": "code",
   "execution_count": 13,
   "metadata": {},
   "outputs": [
    {
     "name": "stdout",
     "output_type": "stream",
     "text": [
      "Average Accuracy: 0.8021\n",
      "Average F1 Score: 0.7977\n"
     ]
    }
   ],
   "source": [
    "print(f\"Average Accuracy: {np.mean(accuracy_scores):.4f}\")\n",
    "print(f\"Average F1 Score: {np.mean(f1_scores):.4f}\")"
   ]
  },
  {
   "cell_type": "code",
   "execution_count": null,
   "metadata": {},
   "outputs": [],
   "source": []
  }
 ],
 "metadata": {
  "kernelspec": {
   "display_name": "ml",
   "language": "python",
   "name": "python3"
  },
  "language_info": {
   "codemirror_mode": {
    "name": "ipython",
    "version": 3
   },
   "file_extension": ".py",
   "mimetype": "text/x-python",
   "name": "python",
   "nbconvert_exporter": "python",
   "pygments_lexer": "ipython3",
   "version": "3.12.5"
  }
 },
 "nbformat": 4,
 "nbformat_minor": 2
}
